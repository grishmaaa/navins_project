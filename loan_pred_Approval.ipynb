{
 "cells": [
  {
   "cell_type": "code",
   "execution_count": 2,
   "metadata": {},
   "outputs": [
    {
     "name": "stdout",
     "output_type": "stream",
     "text": [
      "<class 'pandas.core.frame.DataFrame'>\n",
      "RangeIndex: 598 entries, 0 to 597\n",
      "Data columns (total 13 columns):\n",
      " #   Column             Non-Null Count  Dtype  \n",
      "---  ------             --------------  -----  \n",
      " 0   Loan_ID            598 non-null    object \n",
      " 1   Gender             598 non-null    object \n",
      " 2   Married            598 non-null    object \n",
      " 3   Dependents         586 non-null    float64\n",
      " 4   Education          598 non-null    object \n",
      " 5   Self_Employed      598 non-null    object \n",
      " 6   ApplicantIncome    598 non-null    int64  \n",
      " 7   CoapplicantIncome  598 non-null    float64\n",
      " 8   LoanAmount         577 non-null    float64\n",
      " 9   Loan_Amount_Term   584 non-null    float64\n",
      " 10  Credit_History     549 non-null    float64\n",
      " 11  Property_Area      598 non-null    object \n",
      " 12  Loan_Status        598 non-null    object \n",
      "dtypes: float64(5), int64(1), object(7)\n",
      "memory usage: 60.9+ KB\n"
     ]
    }
   ],
   "source": [
    "import pandas as pd\n",
    "\n",
    "loan_df = pd.read_csv(r'C:\\\\Users\\\\grish\\\\OneDrive\\\\Desktop\\\\speciess_recognier\\\\navins_project\\\\LoanApprovalPrediction.csv')\n",
    "\n",
    "# Display the first few rows and summary information about the dataset\n",
    "loan_df.head()\n",
    "loan_df.info()"
   ]
  },
  {
   "cell_type": "code",
   "execution_count": 3,
   "metadata": {},
   "outputs": [
    {
     "name": "stdout",
     "output_type": "stream",
     "text": [
      "Requirement already satisfied: imblearn in c:\\users\\grish\\appdata\\local\\programs\\python\\python312\\lib\\site-packages (0.0)\n",
      "Requirement already satisfied: imbalanced-learn in c:\\users\\grish\\appdata\\local\\programs\\python\\python312\\lib\\site-packages (from imblearn) (0.12.3)\n",
      "Requirement already satisfied: numpy>=1.17.3 in c:\\users\\grish\\appdata\\local\\programs\\python\\python312\\lib\\site-packages (from imbalanced-learn->imblearn) (1.26.4)\n",
      "Requirement already satisfied: scipy>=1.5.0 in c:\\users\\grish\\appdata\\local\\programs\\python\\python312\\lib\\site-packages (from imbalanced-learn->imblearn) (1.14.0)\n",
      "Requirement already satisfied: scikit-learn>=1.0.2 in c:\\users\\grish\\appdata\\local\\programs\\python\\python312\\lib\\site-packages (from imbalanced-learn->imblearn) (1.3.2)\n",
      "Requirement already satisfied: joblib>=1.1.1 in c:\\users\\grish\\appdata\\local\\programs\\python\\python312\\lib\\site-packages (from imbalanced-learn->imblearn) (1.4.2)\n",
      "Requirement already satisfied: threadpoolctl>=2.0.0 in c:\\users\\grish\\appdata\\local\\programs\\python\\python312\\lib\\site-packages (from imbalanced-learn->imblearn) (3.5.0)\n"
     ]
    },
    {
     "data": {
      "text/plain": [
       "({'class_weight': {0: 2, 1: 1}, 'max_depth': 10, 'n_estimators': 100},\n",
       " 0.7916666666666666,\n",
       " '              precision    recall  f1-score   support\\n\\n           0       0.75      0.43      0.55        35\\n           1       0.80      0.94      0.86        85\\n\\n    accuracy                           0.79       120\\n   macro avg       0.78      0.68      0.71       120\\nweighted avg       0.79      0.79      0.77       120\\n')"
      ]
     },
     "execution_count": 3,
     "metadata": {},
     "output_type": "execute_result"
    }
   ],
   "source": [
    "# from google.colab import files\n",
    "# uploaded = files.upload()\n",
    "\n",
    "import pandas as pd\n",
    "\n",
    "# Load the CSV file to check its contents\n",
    "loan_data = pd.read_csv('LoanApprovalPrediction.csv')\n",
    "\n",
    "# Display the first few rows of the dataset to understand its structure\n",
    "loan_data.head(), loan_data.columns\n",
    "\n",
    "from sklearn.model_selection import train_test_split\n",
    "from sklearn.preprocessing import LabelEncoder\n",
    "from sklearn.impute import SimpleImputer\n",
    "from sklearn.ensemble import RandomForestClassifier\n",
    "from sklearn.metrics import accuracy_score, classification_report\n",
    "\n",
    "# Handling missing values\n",
    "# Fill missing numerical values (LoanAmount and Loan_Amount_Term) with the median\n",
    "imputer = SimpleImputer(strategy='median')\n",
    "loan_data['LoanAmount'] = imputer.fit_transform(loan_data[['LoanAmount']])\n",
    "loan_data['Loan_Amount_Term'] = imputer.fit_transform(loan_data[['Loan_Amount_Term']])\n",
    "\n",
    "# Fill missing categorical values (Gender, Married, Dependents, Self_Employed) with the most frequent value\n",
    "categorical_cols = ['Gender', 'Married', 'Dependents', 'Self_Employed', 'Credit_History']\n",
    "imputer_cat = SimpleImputer(strategy='most_frequent')\n",
    "loan_data[categorical_cols] = imputer_cat.fit_transform(loan_data[categorical_cols])\n",
    "\n",
    "# Convert categorical variables to numerical values using Label Encoding\n",
    "le = LabelEncoder()\n",
    "loan_data['Gender'] = le.fit_transform(loan_data['Gender'])\n",
    "loan_data['Married'] = le.fit_transform(loan_data['Married'])\n",
    "loan_data['Education'] = le.fit_transform(loan_data['Education'])\n",
    "loan_data['Self_Employed'] = le.fit_transform(loan_data['Self_Employed'])\n",
    "loan_data['Property_Area'] = le.fit_transform(loan_data['Property_Area'])\n",
    "loan_data['Loan_Status'] = le.fit_transform(loan_data['Loan_Status'])  # Target variable\n",
    "\n",
    "# Splitting the data into features (X) and target (y)\n",
    "X = loan_data.drop(columns=['Loan_ID', 'Loan_Status'])\n",
    "y = loan_data['Loan_Status']\n",
    "\n",
    "# Split the dataset into training and testing sets\n",
    "X_train, X_test, y_train, y_test = train_test_split(X, y, test_size=0.2, random_state=42)\n",
    "\n",
    "# Step 2: Model Building\n",
    "# Using RandomForestClassifier for loan approval prediction\n",
    "model = RandomForestClassifier(random_state=42)\n",
    "model.fit(X_train, y_train)\n",
    "\n",
    "# Step 3: Model Evaluation\n",
    "# Predictions\n",
    "y_pred = model.predict(X_test)\n",
    "\n",
    "# Evaluate the model\n",
    "accuracy = accuracy_score(y_test, y_pred)\n",
    "classification_rep = classification_report(y_test, y_pred)\n",
    "\n",
    "accuracy, classification_rep\n",
    "\n",
    "\n",
    "!pip install imblearn\n",
    "\n",
    "from imblearn.over_sampling import SMOTE\n",
    "\n",
    "# Apply SMOTE to balance the dataset\n",
    "smote = SMOTE(random_state=42)\n",
    "X_train_balanced, y_train_balanced = smote.fit_resample(X_train, y_train)\n",
    "\n",
    "# Retrain the RandomForest model on the balanced dataset\n",
    "model_balanced = RandomForestClassifier(random_state=42)\n",
    "model_balanced.fit(X_train_balanced, y_train_balanced)\n",
    "\n",
    "# Predictions on the test set\n",
    "y_pred_balanced = model_balanced.predict(X_test)\n",
    "\n",
    "# Evaluate the balanced model\n",
    "accuracy_balanced = accuracy_score(y_test, y_pred_balanced)\n",
    "classification_rep_balanced = classification_report(y_test, y_pred_balanced)\n",
    "\n",
    "accuracy_balanced, classification_rep_balanced\n",
    "\n",
    "from sklearn.model_selection import GridSearchCV\n",
    "\n",
    "# Define the hyperparameter grid\n",
    "param_grid = {\n",
    "    'n_estimators': [100, 200, 300],\n",
    "    'max_depth': [10, 20, None],\n",
    "    'class_weight': ['balanced', {0: 2, 1: 1}, {0: 3, 1: 1}]  # Emphasizing class 0\n",
    "}\n",
    "\n",
    "# Initialize RandomForest with GridSearchCV\n",
    "grid_search = GridSearchCV(RandomForestClassifier(random_state=42), param_grid, cv=3, scoring='accuracy', n_jobs=-1)\n",
    "\n",
    "# Fit the model with GridSearchCV\n",
    "grid_search.fit(X_train, y_train)\n",
    "\n",
    "# Best parameters from grid search\n",
    "best_params = grid_search.best_params_\n",
    "\n",
    "# Evaluate the best model on the test set\n",
    "best_model = grid_search.best_estimator_\n",
    "y_pred_tuned = best_model.predict(X_test)\n",
    "\n",
    "# Get the accuracy and classification report\n",
    "accuracy_tuned = accuracy_score(y_test, y_pred_tuned)\n",
    "classification_rep_tuned = classification_report(y_test, y_pred_tuned)\n",
    "\n",
    "best_params, accuracy_tuned, classification_rep_tuned\n"
   ]
  },
  {
   "cell_type": "code",
   "execution_count": 4,
   "metadata": {},
   "outputs": [],
   "source": [
    "import pickle\n",
    "\n",
    "# Save the trained model to a file using pickle\n",
    "with open('loan_approval_model.pkl', 'wb') as f:\n",
    "    pickle.dump(best_model, f)\n"
   ]
  },
  {
   "cell_type": "code",
   "execution_count": null,
   "metadata": {},
   "outputs": [],
   "source": []
  }
 ],
 "metadata": {
  "kernelspec": {
   "display_name": "Python 3",
   "language": "python",
   "name": "python3"
  },
  "language_info": {
   "codemirror_mode": {
    "name": "ipython",
    "version": 3
   },
   "file_extension": ".py",
   "mimetype": "text/x-python",
   "name": "python",
   "nbconvert_exporter": "python",
   "pygments_lexer": "ipython3",
   "version": "3.12.2"
  }
 },
 "nbformat": 4,
 "nbformat_minor": 2
}
